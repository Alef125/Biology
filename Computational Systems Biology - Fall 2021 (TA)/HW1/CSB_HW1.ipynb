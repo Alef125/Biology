{
 "cells": [
  {
   "cell_type": "markdown",
   "metadata": {},
   "source": [
    "# Computational Systems Biology\n",
    "# HW1\n",
    "\n",
    "This is a warm-up homework to get familiarized with the COBRA toolbox and basic concepts of optimization in the metabolic networks. This notebook is provided to make your work easier, and it is prepared in the Python language. Still, you can use any other language like Julia (which is perfect for optimization problems) or MATLAB (which also contains a COBRA toolbox). "
   ]
  },
  {
   "cell_type": "markdown",
   "metadata": {},
   "source": [
    "## Installing COBRA toolbox\n",
    "\n",
    "To install the COBRA toolbox, uncomment the script below and run it. You can do it in any other way that you know. If you faced any problem, ask your TA or simply search on google :)"
   ]
  },
  {
   "cell_type": "code",
   "execution_count": null,
   "metadata": {},
   "outputs": [],
   "source": [
    "# import sys\n",
    "# !$sys.executable -m pip install --upgrade cobra # --ignore-installed ruamel.yaml"
   ]
  },
  {
   "cell_type": "markdown",
   "metadata": {},
   "source": [
    "# COBRA Tutorial - Building a Model\n",
    "\n",
    "In this section, you see some useful scripts in the COBRA toolbox and learn how to use them. This material is based in the official COBRA toolbox tutorial at this link: https://cobrapy.readthedocs.io/en/latest/.\n",
    "\n",
    "## Model, Reactions and Metabolites"
   ]
  },
  {
   "cell_type": "markdown",
   "metadata": {},
   "source": [
    "This simple example demonstrates how to create a model, create a reaction, and then add the reaction to the model."
   ]
  },
  {
   "cell_type": "code",
   "execution_count": null,
   "metadata": {},
   "outputs": [],
   "source": [
    "import cobra\n",
    "from cobra import Model, Reaction, Metabolite"
   ]
  },
  {
   "cell_type": "markdown",
   "metadata": {},
   "source": [
    "Creating a model is simply done by calling `Model('model_name')`:"
   ]
  },
  {
   "cell_type": "code",
   "execution_count": null,
   "metadata": {},
   "outputs": [],
   "source": [
    "model = Model('example_model')"
   ]
  },
  {
   "cell_type": "markdown",
   "metadata": {},
   "source": [
    "We need to create metabolites of the model. If we were using an existing model, we could use `Model.get_by_id` to get the appropriate Metabolite objects. Otherwise, we create a metabolite in this format:\n",
    "`Metabolite('id', 'formula', 'name', 'compartment')`."
   ]
  },
  {
   "cell_type": "code",
   "execution_count": null,
   "metadata": {
    "jupyter": {
     "outputs_hidden": false
    }
   },
   "outputs": [],
   "source": [
    "ACP_c = Metabolite(\n",
    "    'ACP_c',\n",
    "    formula='C11H21N2O7PRS',\n",
    "    name='acyl-carrier-protein',\n",
    "    compartment='c')\n",
    "omrsACP_c = Metabolite(\n",
    "    'M3omrsACP_c',\n",
    "    formula='C25H45N2O9PRS',\n",
    "    name='3-Oxotetradecanoyl-acyl-carrier-protein',\n",
    "    compartment='c')\n",
    "co2_c = Metabolite('co2_c', formula='CO2', name='CO2', compartment='c')\n",
    "malACP_c = Metabolite(\n",
    "    'malACP_c',\n",
    "    formula='C14H22N2O10PRS',\n",
    "    name='Malonyl-acyl-carrier-protein',\n",
    "    compartment='c')\n",
    "h_c = Metabolite('h_c', formula='H', name='H', compartment='c')\n",
    "ddcaACP_c = Metabolite(\n",
    "    'ddcaACP_c',\n",
    "    formula='C23H43N2O8PRS',\n",
    "    name='Dodecanoyl-ACP-n-C120ACP',\n",
    "    compartment='c')"
   ]
  },
  {
   "cell_type": "markdown",
   "metadata": {},
   "source": [
    "Compartment `'c'`, represents the cytosol. Other familiar compartments are `'e'` (extracellular) and `'p'` (periplasm)."
   ]
  },
  {
   "cell_type": "markdown",
   "metadata": {},
   "source": [
    "As for the reaction, We'll use a reaction named '3OAS140':\n",
    "\n",
    "1.0 malACP[c] + 1.0 h[c] + 1.0 ddcaACP[c] $\\rightarrow$ 1.0 co2[c] + 1.0 ACP[c] + 1.0 3omrsACP[c]\n",
    "\n",
    "First, we should create the reaction in the format of `Reaction('id')` and then assign a `name`, `subsystem`, `lower_bound`, `upper_bound` or any other attributes to it (which also could be set as the argument of `Reaction`):"
   ]
  },
  {
   "cell_type": "code",
   "execution_count": null,
   "metadata": {
    "jupyter": {
     "outputs_hidden": false
    }
   },
   "outputs": [],
   "source": [
    "reaction = Reaction('R_3OAS140')\n",
    "reaction.name = '3 oxoacyl acyl carrier protein synthase n C140 '\n",
    "reaction.subsystem = 'Cell Envelope Biosynthesis'\n",
    "reaction.lower_bound = 0.  # This is the default\n",
    "reaction.upper_bound = 1000.  # This is the default"
   ]
  },
  {
   "cell_type": "markdown",
   "metadata": {},
   "source": [
    "**Side note:** It is highly recommended to use the standard SBML (Systems Biology Markup Language) format for the ids for reactions, metabolites, and genes. That is, using `'R_id'` for reaction, `'M_id'` for metabolites, and `'G_id'` for genes. "
   ]
  },
  {
   "cell_type": "markdown",
   "metadata": {},
   "source": [
    "**Side note 2:** If no particular information about bounds exists, we use the defaults below: <br>\n",
    "- Irrevsible forward reaction: $[0, M]$\n",
    "- Irrevsible backward reaction: $[-M, 0]$\n",
    "- Revsible reaction: $[-M, M]$\n",
    "- Exchange reaction for metabolites not in the growth medium: $[0, M]$\n",
    "- Exchange reactions for metabolites available in excess in the growth medium: $[-M, M]$\n",
    "- Reactions that cannot carry any flux due to the regulatory constraints: $[0, 0]$\n",
    "\n",
    "in which $M$ is a sufficiently big number, usually set to $1000$ by default. Besides, for at least one exchange reaction for a metabolite existing in a limited concentration in the growth medium (usually the carbon source), we should have the bounds $[-c, M]$, by c representing the limiting flux for such exchange reaction. (otherwise, the optimization problem would be trivial)"
   ]
  },
  {
   "cell_type": "markdown",
   "metadata": {},
   "source": [
    "Adding metabolites to a reaction uses a dictionary of the metabolites and their stoichiometric coefficients. A group of metabolites can be added all at once, or they can be added one at a time."
   ]
  },
  {
   "cell_type": "code",
   "execution_count": null,
   "metadata": {
    "jupyter": {
     "outputs_hidden": false
    }
   },
   "outputs": [],
   "source": [
    "reaction.add_metabolites({\n",
    "    malACP_c: -1.0,\n",
    "    h_c: -1.0,\n",
    "    ddcaACP_c: -1.0,\n",
    "    co2_c: 1.0,\n",
    "    ACP_c: 1.0,\n",
    "    omrsACP_c: 1.0\n",
    "})"
   ]
  },
  {
   "cell_type": "code",
   "execution_count": null,
   "metadata": {},
   "outputs": [],
   "source": [
    "reaction.reaction  # This gives a string representation of the reaction"
   ]
  },
  {
   "cell_type": "markdown",
   "metadata": {},
   "source": [
    "It is possible to add genes data to the model. The gene_reaction_rule is a boolean representation of the gene requirements for this reaction to be active as described in [Schellenberger et al 2011 Nature Protocols 6(9):1290-307](http://dx.doi.org/doi:10.1038/nprot.2011.308). We will assign the gene reaction rule string, which will automatically create the corresponding gene objects."
   ]
  },
  {
   "cell_type": "code",
   "execution_count": null,
   "metadata": {
    "jupyter": {
     "outputs_hidden": false
    }
   },
   "outputs": [],
   "source": [
    "reaction.gene_reaction_rule = '( STM2378 or STM1197 )'\n",
    "reaction.genes"
   ]
  },
  {
   "cell_type": "markdown",
   "metadata": {},
   "source": [
    "We can see the model reactions, metabolites, and genes by calling them like `model.reactions` and so on.  \n",
    "At this point in time, the model is still empty"
   ]
  },
  {
   "cell_type": "code",
   "execution_count": null,
   "metadata": {
    "jupyter": {
     "outputs_hidden": false
    }
   },
   "outputs": [],
   "source": [
    "print(f'{len(model.reactions)} reactions initially')\n",
    "print(f'{len(model.metabolites)} metabolites initially')\n",
    "print(f'{len(model.genes)} genes initially')"
   ]
  },
  {
   "cell_type": "markdown",
   "metadata": {},
   "source": [
    "We will add the reaction to the model, which will also add all associated metabolites and genes"
   ]
  },
  {
   "cell_type": "code",
   "execution_count": null,
   "metadata": {
    "jupyter": {
     "outputs_hidden": false
    }
   },
   "outputs": [],
   "source": [
    "model.add_reactions([reaction])\n",
    "\n",
    "# The objects have been added to the model\n",
    "print(f'{len(model.reactions)} reactions')\n",
    "print(f'{len(model.metabolites)} metabolites')\n",
    "print(f'{len(model.genes)} genes')"
   ]
  },
  {
   "cell_type": "markdown",
   "metadata": {},
   "source": [
    "Note that a reaction could be removed from the model by using `model.remove_reactions([reaction])`."
   ]
  },
  {
   "cell_type": "markdown",
   "metadata": {},
   "source": [
    "We can iterate through the model objects to observe the contents"
   ]
  },
  {
   "cell_type": "code",
   "execution_count": null,
   "metadata": {
    "jupyter": {
     "outputs_hidden": false
    }
   },
   "outputs": [],
   "source": [
    "# Iterate through the the objects in the model\n",
    "print(\"Reactions\")\n",
    "print(\"---------\")\n",
    "for x in model.reactions:\n",
    "    print(\"%s : %s\" % (x.id, x.reaction))\n",
    "\n",
    "print(\"\")\n",
    "print(\"Metabolites\")\n",
    "print(\"-----------\")\n",
    "for x in model.metabolites:\n",
    "    print('%9s : %s' % (x.id, x.formula))\n",
    "\n",
    "print(\"\")\n",
    "print(\"Genes\")\n",
    "print(\"-----\")\n",
    "for x in model.genes:\n",
    "    associated_ids = (i.id for i in x.reactions)\n",
    "    print(\"%s is associated with reactions: %s\" %\n",
    "          (x.id, \"{\" + \", \".join(associated_ids) + \"}\"))"
   ]
  },
  {
   "cell_type": "markdown",
   "metadata": {},
   "source": [
    "## Objective"
   ]
  },
  {
   "cell_type": "markdown",
   "metadata": {},
   "source": [
    "Last we need to set the objective of the model. Here, we just want this to be the maximization of the flux in the single reaction we added and we do this by assigning the reaction's identifier to the `objective` property of the model."
   ]
  },
  {
   "cell_type": "code",
   "execution_count": null,
   "metadata": {
    "jupyter": {
     "outputs_hidden": false
    }
   },
   "outputs": [],
   "source": [
    "model.objective = 'R_3OAS140'"
   ]
  },
  {
   "cell_type": "markdown",
   "metadata": {},
   "source": [
    "The created objective is a symbolic algebraic expression and we can examine it by printing it"
   ]
  },
  {
   "cell_type": "code",
   "execution_count": null,
   "metadata": {
    "jupyter": {
     "outputs_hidden": false
    }
   },
   "outputs": [],
   "source": [
    "print(model.objective.expression)\n",
    "print(model.objective.direction)"
   ]
  },
  {
   "cell_type": "markdown",
   "metadata": {},
   "source": [
    "which shows that the solver will maximize the flux in the forward direction and could be changed to a minimization problem by using `model.objective.direction = 'min'`."
   ]
  },
  {
   "cell_type": "markdown",
   "metadata": {},
   "source": [
    "## Tailored Constraints"
   ]
  },
  {
   "cell_type": "markdown",
   "metadata": {},
   "source": [
    "To add an arbitrary constraint on fluxes, else than stoichiometric and bounds constraints, first, you should make a constraint object:  \n",
    "`new_constraint = model.problem.Constraint(rxn.flux_expression, lb=min_val, ub=max_val)`,  <br>\n",
    "which states that the flux of the reaction `rxn` should be between values `min_val` and `max_val`. You can replace \n",
    "`rxn.flux_expression` with a weighted sum of many fluxes. For example:\n",
    "`rxn1.flux_expression - 3 * rxn2.flux_expression`.  <br>\n",
    "Finally, you need to add this constraint to your model by using `model.add_cons_vars(new_constraint)`. <br>\n",
    "Note: adding non-linear constraints is also possible, but you should be aware that your problem is no longer an LP."
   ]
  },
  {
   "cell_type": "markdown",
   "metadata": {},
   "source": [
    "## Model Validation"
   ]
  },
  {
   "cell_type": "markdown",
   "metadata": {},
   "source": [
    "For exchange with other tools you can validate and export the model to SBML.\n",
    "For more information on serialization and available formats see the relative sections in the COBRA documentation. "
   ]
  },
  {
   "cell_type": "code",
   "execution_count": null,
   "metadata": {},
   "outputs": [],
   "source": [
    "import tempfile\n",
    "from pprint import pprint\n",
    "from cobra.io import write_sbml_model, validate_sbml_model\n",
    "with tempfile.NamedTemporaryFile(suffix='.xml') as f_sbml:\n",
    "    write_sbml_model(model, filename=f_sbml.name)\n",
    "    report = validate_sbml_model(filename=f_sbml.name)\n",
    "\n",
    "pprint(report)"
   ]
  },
  {
   "cell_type": "markdown",
   "metadata": {},
   "source": [
    "The model is valid with no COBRA or SBML errors or warnings."
   ]
  },
  {
   "cell_type": "markdown",
   "metadata": {},
   "source": [
    "## Boundary Reactions: Exchanges, Sinks and Demands\n",
    "Boundary reactions can be added using the model's method `add_boundary`.\n",
    "There are three different types of pre-defined boundary reactions: exchange, demand, and sink reactions. All of them are unbalanced pseudo reactions, which means they fulfill a function for modeling by adding to or removing metabolites from the model system but are not based on real biology. An exchange reaction is a reversible reaction that adds to or removes an extracellular metabolite from the extracellular compartment (mostly, we use this kind). A demand reaction is an irreversible reaction that consumes an intracellular metabolite (and is rarely used). A sink is similar to an exchange but specifically for intracellular metabolites, i.e., a reversible reaction that adds or removes an intracellular metabolite (primarily for biomass reaction)."
   ]
  },
  {
   "cell_type": "code",
   "execution_count": null,
   "metadata": {},
   "outputs": [],
   "source": [
    "print(\"exchanges\", model.exchanges)\n",
    "print(\"demands\", model.demands)\n",
    "print(\"sinks\", model.sinks)"
   ]
  },
  {
   "cell_type": "markdown",
   "metadata": {},
   "source": [
    "Boundary reactions are defined on metabolites. First we add two metabolites to the model then\n",
    "we define the boundary reactions. We add glycogen to the cytosolic compartment `c` and CO2 to the external compartment `e`."
   ]
  },
  {
   "cell_type": "code",
   "execution_count": null,
   "metadata": {},
   "outputs": [],
   "source": [
    "model.add_metabolites([\n",
    "    Metabolite(\n",
    "    'glycogen_c',\n",
    "    name='glycogen',\n",
    "    compartment='c'\n",
    "    ),\n",
    "    Metabolite(\n",
    "    'co2_e',\n",
    "    name='CO2',\n",
    "    compartment='e'\n",
    "    ),\n",
    "])"
   ]
  },
  {
   "cell_type": "code",
   "execution_count": null,
   "metadata": {},
   "outputs": [],
   "source": [
    "# create exchange reaction\n",
    "model.add_boundary(model.metabolites.get_by_id(\"co2_e\"), type=\"exchange\")"
   ]
  },
  {
   "cell_type": "markdown",
   "metadata": {},
   "source": [
    "As you see, the exchange reaction for a metabolite with id `'M'` would have the id `'EX_M'` and could be accessible by `model.reactions.get_by_id(\"EX_M\")` for making appropriate changes on its attributions, such as bounds."
   ]
  },
  {
   "cell_type": "code",
   "execution_count": null,
   "metadata": {},
   "outputs": [],
   "source": [
    "# create exchange reaction\n",
    "model.add_boundary(model.metabolites.get_by_id(\"glycogen_c\"), type=\"sink\")"
   ]
  },
  {
   "cell_type": "markdown",
   "metadata": {},
   "source": [
    "Similarly, the sink reaction for a metabolite with id `'M'` would have the id `'SK_M'` and could be accessible by `model.reactions.get_by_id(\"SK_M\")`."
   ]
  },
  {
   "cell_type": "code",
   "execution_count": null,
   "metadata": {},
   "outputs": [],
   "source": [
    "# Now we have an additional exchange and sink reaction in the model\n",
    "print(\"exchanges\", model.exchanges)\n",
    "print(\"sinks\", model.sinks)\n",
    "print(\"demands\", model.demands)"
   ]
  },
  {
   "cell_type": "markdown",
   "metadata": {},
   "source": [
    "To create a demand reaction instead of a sink use type `demand` instead of `sink`."
   ]
  },
  {
   "cell_type": "markdown",
   "metadata": {},
   "source": [
    "Aggregated information on all boundary reactions is available via the model's property `boundary`."
   ]
  },
  {
   "cell_type": "code",
   "execution_count": null,
   "metadata": {},
   "outputs": [],
   "source": [
    "# boundary reactions\n",
    "model.boundary"
   ]
  },
  {
   "cell_type": "markdown",
   "metadata": {},
   "source": [
    "Note that all boundary reactions are included in `model.reactions`. A neat trick to get all metabolic reactions is"
   ]
  },
  {
   "cell_type": "code",
   "execution_count": null,
   "metadata": {},
   "outputs": [],
   "source": [
    "# metabolic reactions\n",
    "set(model.reactions) - set(model.boundary)"
   ]
  },
  {
   "cell_type": "markdown",
   "metadata": {},
   "source": [
    "## Running FBA\n",
    "\n",
    "Simulations using flux balance analysis (FBA) can be solved using `Model.optimize()`. This will maximize or minimize (maximizing is the default) flux through the objective reactions."
   ]
  },
  {
   "cell_type": "code",
   "execution_count": null,
   "metadata": {},
   "outputs": [],
   "source": [
    "solution = model.optimize()"
   ]
  },
  {
   "cell_type": "markdown",
   "metadata": {},
   "source": [
    "This solution is an object by four parts, as bellow:"
   ]
  },
  {
   "cell_type": "code",
   "execution_count": null,
   "metadata": {},
   "outputs": [],
   "source": [
    "print(solution.status)  # Optimal, Infeasible, ...\n",
    "print(solution.objective_value)  # The optimal value for the objective function\n",
    "print(solution.fluxes)  # The value for all fluxes in this optimal solution (causion: not unique!)\n",
    "print(solution.shadow_prices)  # The value for dual variables"
   ]
  },
  {
   "cell_type": "markdown",
   "metadata": {},
   "source": [
    "Also, `model.summary()` will show some details about the optimal solution:"
   ]
  },
  {
   "cell_type": "code",
   "execution_count": null,
   "metadata": {},
   "outputs": [],
   "source": [
    "model.summary()"
   ]
  },
  {
   "cell_type": "markdown",
   "metadata": {},
   "source": [
    "# Task 1:\n",
    "\n",
    "## Part 1:\n",
    "\n",
    "Build the metabolic network as described in this picture, using the default bound and $D$ as the biomass reaction. Assume that $A$ is the limiting resource allowed to be taken up with a maximum flux of $10$, $B$ is an unlimited resource, and $F$ is the exported metabolic product. Afterward, find the maximum biomass flux rate in this network."
   ]
  },
  {
   "cell_type": "markdown",
   "metadata": {},
   "source": [
    "![task1_img](./Fig_3,4.png)"
   ]
  },
  {
   "cell_type": "markdown",
   "metadata": {},
   "source": [
    "After running FBA, save you model using   \n",
    "`cobra.io.write_sbml_model(your_model, \"./Solutions/Task 1/task1_part1.xml\")`."
   ]
  },
  {
   "cell_type": "code",
   "execution_count": null,
   "metadata": {},
   "outputs": [],
   "source": [
    "## Your Code"
   ]
  },
  {
   "cell_type": "markdown",
   "metadata": {},
   "source": [
    "## Part 2:\n",
    "\n",
    "Consider that we have distinguished that our network has some flaws (can you understand it by the result of your FBA?). After studying, we perceived that a new metabolite $G$ was contributing to the $rxn2$, i.e., $C[c] \\leftrightarrow F[c] + G[c]$. Also, $G$ could be converted to the metabolite $A$ or vice versa. Modify your model, and run FBA on it to find the optimum value."
   ]
  },
  {
   "cell_type": "markdown",
   "metadata": {},
   "source": [
    "![task1_2_img](./Fig_3,4_2.png)"
   ]
  },
  {
   "cell_type": "markdown",
   "metadata": {},
   "source": [
    "After running FBA, save you model, using  \n",
    "`cobra.io.write_sbml_model(your_model, \"./Solutions/Task 1/task1_part2_model.xml\")`."
   ]
  },
  {
   "cell_type": "code",
   "execution_count": null,
   "metadata": {},
   "outputs": [],
   "source": [
    "## Your Code"
   ]
  },
  {
   "cell_type": "markdown",
   "metadata": {},
   "source": [
    "# Running FBA on an existing organism's metabolic network"
   ]
  },
  {
   "cell_type": "markdown",
   "metadata": {},
   "source": [
    "## Importing metabolic data\n",
    "\n",
    "In your HW folder, a file named \"iAF1260.xml\" is placed and contains the metabolic network for the well-known organism E.Coli, in the SBML format. This script helps you to read it:"
   ]
  },
  {
   "cell_type": "code",
   "execution_count": null,
   "metadata": {
    "scrolled": true
   },
   "outputs": [],
   "source": [
    "task2_model = cobra.io.read_sbml_model(\"iAF1260.xml\")"
   ]
  },
  {
   "cell_type": "markdown",
   "metadata": {},
   "source": [
    "In this model, the objective biomass reaction is preset to `\"Ec_biomass_iAF1260_WT_59p81M\"`, and all boundaries for reactions are set to standards according to the biological reversibilities in the model. For exchange reactions, all have an upper-bound equal to $M=1000$. The lower bounds are set to $0$, else for the metabolites available in the growth medium. In our special medium, called the M9 medium, there exists a limited glucose uptake, which is demonstrated by lower-bound(EX_glc(e)) = $-10$ in the model. Also, as we have assumed to be in an aerobic condition, the oxygen uptake has been set to $20$ (i.e., lower-bound(EX_o2(e)) = $-20$). Other lower-bounds for external reactions are set to $-M$, as there are supposed to be available in excess in our medium. You don't need to change any of these bounds in this section, but as extra information, there are some reactions in the aerobic condition which cannot carry any flux due to the regulatory constraints and are presented in the `\"iAF1260_off_reactions_aero.txt\"` file. Be careful to set their fluxes to zero in the aerobic condition."
   ]
  },
  {
   "cell_type": "markdown",
   "metadata": {},
   "source": [
    "# Task 2: \n",
    "\n",
    "Run FBA on this model and find the maximum biomass flux. As you know, the FBA optimal fluxes are rarely unique and are consequently unreliable. Find the reactions whose fluxes are reliable in the FBA solution. If necessary, consider the precious of the zero to be `1E-6` (i.e., every $\\epsilon \\in [-1E-6,+1E-6]$ is considered zero)."
   ]
  },
  {
   "cell_type": "markdown",
   "metadata": {},
   "source": [
    "**Output format:** Make a dictionary with keys to be the ids for reactions with reliable fluxes in FBA and values to be their reliable flux in FBA (i.e., `{..., 'rxn_id': flux, ...}`) and save it using `json.dump`."
   ]
  },
  {
   "cell_type": "code",
   "execution_count": null,
   "metadata": {},
   "outputs": [],
   "source": [
    "## Your Code"
   ]
  },
  {
   "cell_type": "code",
   "execution_count": null,
   "metadata": {},
   "outputs": [],
   "source": [
    "## Save Your Result:\n",
    "import json\n",
    "with open('./Solutions/Task 2/task2.json', 'w') as fp:\n",
    "    json.dump(reliables_dict, fp)"
   ]
  },
  {
   "cell_type": "markdown",
   "metadata": {},
   "source": [
    "# Task 3:\n",
    "\n",
    "The model included in `\"iAF1260.xml\"` corresponds to aerobic condition (i.e., oxygen uptaking is possible). By setting the oxygen uptake to zero, run FBA for the anaerobic condition and compare the maximum biomass flux in this condition. Note that the reactions identified in `\"iAF1260_off_reactions_aero.txt\"` are not necessarily off in anaerobic conditions."
   ]
  },
  {
   "cell_type": "code",
   "execution_count": null,
   "metadata": {},
   "outputs": [],
   "source": [
    "task3_model = cobra.io.read_sbml_model(\"iAF1260.xml\")  "
   ]
  },
  {
   "cell_type": "code",
   "execution_count": null,
   "metadata": {},
   "outputs": [],
   "source": [
    "## Your Code"
   ]
  },
  {
   "cell_type": "code",
   "execution_count": null,
   "metadata": {},
   "outputs": [],
   "source": [
    "# Save Your Model:\n",
    "cobra.io.write_sbml_model(task3_model, \"./Solutions/Task 3/task3.xml\")"
   ]
  },
  {
   "cell_type": "markdown",
   "metadata": {},
   "source": [
    "# Task 4: \n",
    "\n",
    "## Modifying a problem\n",
    "\n",
    "A researcher is looking for some organism to produce industrial \"ethanol\" in the lab. He has found that our E.Coli organism iAF1260 is best for that job as solving the following optimization problem has revealed a considerable amount of possible ethanol production under the aerobic condition: <br>\n",
    "(include off reactions before running)"
   ]
  },
  {
   "cell_type": "code",
   "execution_count": null,
   "metadata": {},
   "outputs": [],
   "source": [
    "task4_model = cobra.io.read_sbml_model(\"iAF1260.xml\") "
   ]
  },
  {
   "cell_type": "code",
   "execution_count": null,
   "metadata": {},
   "outputs": [],
   "source": [
    "# ... (a lost part of the researcher's work for including off reactions in aerobic condition :)) ) ..."
   ]
  },
  {
   "cell_type": "code",
   "execution_count": null,
   "metadata": {},
   "outputs": [],
   "source": [
    "task4_model.objective = 'EX_etoh(e)'\n",
    "solution = task4_model.optimize()\n",
    "print(solution.status) \n",
    "print(solution.objective_value) \n",
    "print(solution.fluxes) \n",
    "print(solution.shadow_prices)  \n",
    "task4_model.summary()"
   ]
  },
  {
   "cell_type": "markdown",
   "metadata": {},
   "source": [
    "But when he experimetally cultivated E.Coli in the lab, only an insignificant amount of ethanol was prodeced. "
   ]
  },
  {
   "cell_type": "markdown",
   "metadata": {},
   "source": [
    "## Part 1:\n",
    "\n",
    "Do you see any problem with his computational work? If so, analyze the issue and correct it. <br>\n",
    "After doing optimization, save your model using `cobra.io.write_sbml_model(task4_model, \"./Solutions/Task 4/task4_part1.xml\")`."
   ]
  },
  {
   "cell_type": "code",
   "execution_count": null,
   "metadata": {},
   "outputs": [],
   "source": [
    "## Your Code"
   ]
  },
  {
   "cell_type": "markdown",
   "metadata": {},
   "source": [
    "## Part 2:\n",
    "\n",
    "Do you offer him to treat this experiment under the anaerobic condition? Test it, and after doing optimizations, save your model using `cobra.io.write_sbml_model(task4_model, \"./Solutions/Task 4/task4_part2.xml\")`."
   ]
  },
  {
   "cell_type": "code",
   "execution_count": null,
   "metadata": {},
   "outputs": [],
   "source": [
    "task4_model = cobra.io.read_sbml_model(\"iAF1260.xml\") "
   ]
  },
  {
   "cell_type": "code",
   "execution_count": null,
   "metadata": {},
   "outputs": [],
   "source": [
    "## Your Code"
   ]
  },
  {
   "cell_type": "code",
   "execution_count": null,
   "metadata": {},
   "outputs": [],
   "source": [
    "# Save Your Model\n",
    "cobra.io.write_sbml_model(task4_model, \"./Solutions/Task 4/task4_part2.xml\")"
   ]
  },
  {
   "cell_type": "markdown",
   "metadata": {},
   "source": [
    "################################################################################################"
   ]
  }
 ],
 "metadata": {
  "kernelspec": {
   "display_name": "Python 3",
   "language": "python",
   "name": "python3"
  },
  "language_info": {
   "codemirror_mode": {
    "name": "ipython",
    "version": 3
   },
   "file_extension": ".py",
   "mimetype": "text/x-python",
   "name": "python",
   "nbconvert_exporter": "python",
   "pygments_lexer": "ipython3",
   "version": "3.8.5"
  }
 },
 "nbformat": 4,
 "nbformat_minor": 4
}
