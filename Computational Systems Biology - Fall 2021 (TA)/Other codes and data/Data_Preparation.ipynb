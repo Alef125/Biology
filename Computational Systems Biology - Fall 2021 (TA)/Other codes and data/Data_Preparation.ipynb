{
 "cells": [
  {
   "cell_type": "markdown",
   "metadata": {},
   "source": [
    "# Data Preparing for HW1\n",
    "\n",
    "My scripts to create the model used in CSB HW1."
   ]
  },
  {
   "cell_type": "code",
   "execution_count": 20,
   "metadata": {},
   "outputs": [],
   "source": [
    "import cobra\n",
    "from cobra import Model, Reaction, Metabolite\n",
    "import BioModelParser"
   ]
  },
  {
   "cell_type": "code",
   "execution_count": 26,
   "metadata": {},
   "outputs": [],
   "source": [
    "all_metabolites = BioModelParser.read_metabolites(\"./iAF1260 Data/iAF1260_metabolites.txt\")\n",
    "m = len(all_metabolites)"
   ]
  },
  {
   "cell_type": "code",
   "execution_count": 27,
   "metadata": {},
   "outputs": [],
   "source": [
    "all_reactions = BioModelParser.read_reactions(\"./iAF1260 Data/iAF1260_reactions.txt\")\n",
    "n = len(all_reactions)"
   ]
  },
  {
   "cell_type": "code",
   "execution_count": 28,
   "metadata": {},
   "outputs": [],
   "source": [
    "# off_reactions = BioModelParser.read_off_reactions(\"./iAF1260 Data/iAF1260_off_reactions.txt\")\n",
    "off_reactions = BioModelParser.read_off_reactions(\"./iAF1260 Data/iAF1260_offanaero.txt\")"
   ]
  },
  {
   "cell_type": "code",
   "execution_count": 29,
   "metadata": {},
   "outputs": [],
   "source": [
    "uptake_reactions = BioModelParser.read_uptake_reactions(\"./iAF1260 Data/iAF1260_uptakes.txt\")"
   ]
  },
  {
   "cell_type": "code",
   "execution_count": 30,
   "metadata": {},
   "outputs": [],
   "source": [
    "stoic_dicts = BioModelParser.read_stoichimetry_matrix(\"./iAF1260 Data/iAF1260_stoic_matrix.txt\")"
   ]
  },
  {
   "cell_type": "code",
   "execution_count": 31,
   "metadata": {},
   "outputs": [],
   "source": [
    "all_reactions = BioModelParser.update_rxn_types(all_reactions, \"./iAF1260 Data/iAF1260_rxn_types.txt\")"
   ]
  },
  {
   "cell_type": "code",
   "execution_count": 32,
   "metadata": {},
   "outputs": [],
   "source": [
    "all_reactions = BioModelParser.modify_bounds(all_reactions, uptake_reactions, off_reactions)"
   ]
  },
  {
   "cell_type": "code",
   "execution_count": 33,
   "metadata": {},
   "outputs": [],
   "source": [
    "S = BioModelParser.make_stoichiometry_matrix(stoic_dicts, all_reactions, all_metabolites, m, n)"
   ]
  },
  {
   "cell_type": "code",
   "execution_count": 34,
   "metadata": {},
   "outputs": [],
   "source": [
    "l, u = BioModelParser.make_bounds_vector(all_reactions, n)"
   ]
  },
  {
   "cell_type": "code",
   "execution_count": 35,
   "metadata": {},
   "outputs": [],
   "source": [
    "model = Model('iAF1260_model');"
   ]
  },
  {
   "cell_type": "code",
   "execution_count": 36,
   "metadata": {},
   "outputs": [],
   "source": [
    "model_metabolites = []\n",
    "for met_dict in all_metabolites:\n",
    "    new_met = Metabolite(met_dict['full_id'], \n",
    "                         formula='', \n",
    "                         name=met_dict['met_id'], \n",
    "                         compartment=met_dict['compartment'])\n",
    "    model_metabolites.append(new_met)"
   ]
  },
  {
   "cell_type": "code",
   "execution_count": 37,
   "metadata": {
    "jupyter": {
     "outputs_hidden": false
    }
   },
   "outputs": [],
   "source": [
    "index = 0\n",
    "for rxn_dict in all_reactions:\n",
    "    new_reaction = Reaction(rxn_dict['rxn_id'])\n",
    "    new_reaction.name = rxn_dict['rxn_id']\n",
    "    new_reaction.lower_bound = rxn_dict['lower_bound']\n",
    "    new_reaction.upper_bound = rxn_dict['upper_bound']\n",
    "    reaction_metabolites = BioModelParser.get_model_metabolite(S[:, index], model_metabolites, m)\n",
    "    new_reaction.add_metabolites(reaction_metabolites)\n",
    "    model.add_reactions([new_reaction])\n",
    "    index += 1"
   ]
  },
  {
   "cell_type": "code",
   "execution_count": 38,
   "metadata": {
    "jupyter": {
     "outputs_hidden": false
    }
   },
   "outputs": [],
   "source": [
    "model.objective = 'Ec_biomass_iAF1260_WT_59p81M'"
   ]
  },
  {
   "cell_type": "code",
   "execution_count": 39,
   "metadata": {
    "jupyter": {
     "outputs_hidden": false
    }
   },
   "outputs": [
    {
     "name": "stdout",
     "output_type": "stream",
     "text": [
      "1.0*Ec_biomass_iAF1260_WT_59p81M - 1.0*Ec_biomass_iAF1260_WT_59p81M_reverse_b0c8b\n",
      "max\n"
     ]
    }
   ],
   "source": [
    "print(model.objective.expression)\n",
    "print(model.objective.direction)"
   ]
  },
  {
   "cell_type": "code",
   "execution_count": 40,
   "metadata": {},
   "outputs": [
    {
     "name": "stdout",
     "output_type": "stream",
     "text": [
      "<Solution 0.931 at 0x7fe1a98278b0>\n"
     ]
    }
   ],
   "source": [
    "solution = model.optimize()\n",
    "print(solution)"
   ]
  },
  {
   "cell_type": "code",
   "execution_count": 41,
   "metadata": {
    "scrolled": true
   },
   "outputs": [
    {
     "data": {
      "text/plain": [
       "0.9305182477698586"
      ]
     },
     "execution_count": 41,
     "metadata": {},
     "output_type": "execute_result"
    }
   ],
   "source": [
    "solution.objective_value"
   ]
  },
  {
   "cell_type": "code",
   "execution_count": 42,
   "metadata": {},
   "outputs": [
    {
     "data": {
      "text/html": [
       "<h3>Objective</h3><p>1.0 Ec_biomass_iAF1260_WT_59p81M = 0.9305182477698608</p><h4>Uptake</h4><table border=\"1\" class=\"dataframe\">\n",
       "  <thead>\n",
       "    <tr style=\"text-align: right;\">\n",
       "      <th>Metabolite</th>\n",
       "      <th>Reaction</th>\n",
       "      <th>Flux</th>\n",
       "      <th>C-Number</th>\n",
       "      <th>C-Flux</th>\n",
       "    </tr>\n",
       "  </thead>\n",
       "  <tbody>\n",
       "    <tr>\n",
       "      <td>ca2[e]</td>\n",
       "      <td>EX_ca2(e)</td>\n",
       "      <td>0.004198</td>\n",
       "      <td>0</td>\n",
       "      <td>0.00%</td>\n",
       "    </tr>\n",
       "    <tr>\n",
       "      <td>cbl1[e]</td>\n",
       "      <td>EX_cbl1(e)</td>\n",
       "      <td>0.0002075</td>\n",
       "      <td>0</td>\n",
       "      <td>0.00%</td>\n",
       "    </tr>\n",
       "    <tr>\n",
       "      <td>cl[e]</td>\n",
       "      <td>EX_cl(e)</td>\n",
       "      <td>0.004198</td>\n",
       "      <td>0</td>\n",
       "      <td>0.00%</td>\n",
       "    </tr>\n",
       "    <tr>\n",
       "      <td>cobalt2[e]</td>\n",
       "      <td>EX_cobalt2(e)</td>\n",
       "      <td>0.002799</td>\n",
       "      <td>0</td>\n",
       "      <td>0.00%</td>\n",
       "    </tr>\n",
       "    <tr>\n",
       "      <td>cu2[e]</td>\n",
       "      <td>EX_cu2(e)</td>\n",
       "      <td>0.002799</td>\n",
       "      <td>0</td>\n",
       "      <td>0.00%</td>\n",
       "    </tr>\n",
       "    <tr>\n",
       "      <td>fe2[e]</td>\n",
       "      <td>EX_fe2(e)</td>\n",
       "      <td>0.006919</td>\n",
       "      <td>0</td>\n",
       "      <td>0.00%</td>\n",
       "    </tr>\n",
       "    <tr>\n",
       "      <td>fe3[e]</td>\n",
       "      <td>EX_fe3(e)</td>\n",
       "      <td>0.006297</td>\n",
       "      <td>0</td>\n",
       "      <td>0.00%</td>\n",
       "    </tr>\n",
       "    <tr>\n",
       "      <td>glc-D[e]</td>\n",
       "      <td>EX_glc(e)</td>\n",
       "      <td>10</td>\n",
       "      <td>0</td>\n",
       "      <td>0.00%</td>\n",
       "    </tr>\n",
       "    <tr>\n",
       "      <td>k[e]</td>\n",
       "      <td>EX_k(e)</td>\n",
       "      <td>0.1574</td>\n",
       "      <td>0</td>\n",
       "      <td>0.00%</td>\n",
       "    </tr>\n",
       "    <tr>\n",
       "      <td>mg2[e]</td>\n",
       "      <td>EX_mg2(e)</td>\n",
       "      <td>0.006997</td>\n",
       "      <td>0</td>\n",
       "      <td>0.00%</td>\n",
       "    </tr>\n",
       "    <tr>\n",
       "      <td>mn2[e]</td>\n",
       "      <td>EX_mn2(e)</td>\n",
       "      <td>0.002799</td>\n",
       "      <td>0</td>\n",
       "      <td>0.00%</td>\n",
       "    </tr>\n",
       "    <tr>\n",
       "      <td>mobd[e]</td>\n",
       "      <td>EX_mobd(e)</td>\n",
       "      <td>0.002799</td>\n",
       "      <td>0</td>\n",
       "      <td>0.00%</td>\n",
       "    </tr>\n",
       "    <tr>\n",
       "      <td>nh4[e]</td>\n",
       "      <td>EX_nh4(e)</td>\n",
       "      <td>9.773</td>\n",
       "      <td>0</td>\n",
       "      <td>0.00%</td>\n",
       "    </tr>\n",
       "    <tr>\n",
       "      <td>o2[e]</td>\n",
       "      <td>EX_o2(e)</td>\n",
       "      <td>20</td>\n",
       "      <td>0</td>\n",
       "      <td>0.00%</td>\n",
       "    </tr>\n",
       "    <tr>\n",
       "      <td>pi[e]</td>\n",
       "      <td>EX_pi(e)</td>\n",
       "      <td>1.793</td>\n",
       "      <td>0</td>\n",
       "      <td>0.00%</td>\n",
       "    </tr>\n",
       "    <tr>\n",
       "      <td>so4[e]</td>\n",
       "      <td>EX_so4(e)</td>\n",
       "      <td>0.2264</td>\n",
       "      <td>0</td>\n",
       "      <td>0.00%</td>\n",
       "    </tr>\n",
       "    <tr>\n",
       "      <td>zn2[e]</td>\n",
       "      <td>EX_zn2(e)</td>\n",
       "      <td>0.002799</td>\n",
       "      <td>0</td>\n",
       "      <td>0.00%</td>\n",
       "    </tr>\n",
       "  </tbody>\n",
       "</table><h4>Secretion</h4><table border=\"1\" class=\"dataframe\">\n",
       "  <thead>\n",
       "    <tr style=\"text-align: right;\">\n",
       "      <th>Metabolite</th>\n",
       "      <th>Reaction</th>\n",
       "      <th>Flux</th>\n",
       "      <th>C-Number</th>\n",
       "      <th>C-Flux</th>\n",
       "    </tr>\n",
       "  </thead>\n",
       "  <tbody>\n",
       "    <tr>\n",
       "      <td>4hba[c]</td>\n",
       "      <td>DM_4HBA</td>\n",
       "      <td>-0.0002075</td>\n",
       "      <td>0</td>\n",
       "      <td>0.00%</td>\n",
       "    </tr>\n",
       "    <tr>\n",
       "      <td>hmfurn[c]</td>\n",
       "      <td>DM_HMFURN</td>\n",
       "      <td>-0.001245</td>\n",
       "      <td>0</td>\n",
       "      <td>0.00%</td>\n",
       "    </tr>\n",
       "    <tr>\n",
       "      <td>ac[e]</td>\n",
       "      <td>EX_ac(e)</td>\n",
       "      <td>-0.05166</td>\n",
       "      <td>0</td>\n",
       "      <td>0.00%</td>\n",
       "    </tr>\n",
       "    <tr>\n",
       "      <td>co2[e]</td>\n",
       "      <td>EX_co2(e)</td>\n",
       "      <td>-21.88</td>\n",
       "      <td>0</td>\n",
       "      <td>0.00%</td>\n",
       "    </tr>\n",
       "    <tr>\n",
       "      <td>glyclt[e]</td>\n",
       "      <td>EX_glyclt(e)</td>\n",
       "      <td>-0.00083</td>\n",
       "      <td>0</td>\n",
       "      <td>0.00%</td>\n",
       "    </tr>\n",
       "    <tr>\n",
       "      <td>h[e]</td>\n",
       "      <td>EX_h(e)</td>\n",
       "      <td>-8.328</td>\n",
       "      <td>0</td>\n",
       "      <td>0.00%</td>\n",
       "    </tr>\n",
       "    <tr>\n",
       "      <td>h2[e]</td>\n",
       "      <td>EX_h2(e)</td>\n",
       "      <td>-0.008765</td>\n",
       "      <td>0</td>\n",
       "      <td>0.00%</td>\n",
       "    </tr>\n",
       "    <tr>\n",
       "      <td>h2o[e]</td>\n",
       "      <td>EX_h2o(e)</td>\n",
       "      <td>-45.86</td>\n",
       "      <td>0</td>\n",
       "      <td>0.00%</td>\n",
       "    </tr>\n",
       "  </tbody>\n",
       "</table>"
      ],
      "text/plain": [
       "<cobra.summary.model_summary.ModelSummary at 0x7fe1a97600d0>"
      ]
     },
     "execution_count": 42,
     "metadata": {},
     "output_type": "execute_result"
    }
   ],
   "source": [
    "model.summary()"
   ]
  },
  {
   "cell_type": "code",
   "execution_count": 43,
   "metadata": {},
   "outputs": [],
   "source": [
    "cobra.io.write_sbml_model(model, \"./iAF1260.xml\")"
   ]
  }
 ],
 "metadata": {
  "kernelspec": {
   "display_name": "Python 3",
   "language": "python",
   "name": "python3"
  },
  "language_info": {
   "codemirror_mode": {
    "name": "ipython",
    "version": 3
   },
   "file_extension": ".py",
   "mimetype": "text/x-python",
   "name": "python",
   "nbconvert_exporter": "python",
   "pygments_lexer": "ipython3",
   "version": "3.8.5"
  }
 },
 "nbformat": 4,
 "nbformat_minor": 4
}
